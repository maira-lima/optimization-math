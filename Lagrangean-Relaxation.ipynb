{
 "cells": [
  {
   "cell_type": "markdown",
   "metadata": {},
   "source": [
    "# Lagrangean Relaxation"
   ]
  },
  {
   "cell_type": "markdown",
   "metadata": {},
   "source": [
    "Maira Zabuscha de Lima 21008214"
   ]
  },
  {
   "cell_type": "code",
   "execution_count": 1,
   "metadata": {},
   "outputs": [],
   "source": [
    "import matplotlib.pyplot as plt\n",
    "from IPython.display import display, Math"
   ]
  },
  {
   "cell_type": "code",
   "execution_count": 2,
   "metadata": {},
   "outputs": [],
   "source": [
    "def solve(X):\n",
    "    C = []\n",
    "    for i in range(n):\n",
    "        C.append(c[i])\n",
    "        for row in columns[i]:\n",
    "            C[i] -= LAMBDA[row]\n",
    "\n",
    "    z = 0\n",
    "    for i in range(n):\n",
    "        if C[i] <= 0:\n",
    "            X[i] = 1\n",
    "            z += C[i]\n",
    "        else:\n",
    "            X[i] = 0\n",
    "\n",
    "    for i in range(m):\n",
    "        z += LAMBDA[i]\n",
    "    return z"
   ]
  },
  {
   "cell_type": "code",
   "execution_count": 3,
   "metadata": {},
   "outputs": [],
   "source": [
    "def optimisation(X):\n",
    "    G = [1 for b in range(m)]\n",
    "    for i in range(n):\n",
    "        for row in columns[i]:\n",
    "            G[row] -= X[i]\n",
    "\n",
    "    S = 0\n",
    "    for g in G:\n",
    "        S += g * g\n",
    "    \n",
    "    T = PI * (Z_UB - Z_LB) / S\n",
    "\n",
    "    for i in range(m):\n",
    "        LAMBDA[i] += T * G[i]\n",
    "        if LAMBDA[i] < 0:\n",
    "            LAMBDA[i] = 0"
   ]
  },
  {
   "cell_type": "code",
   "execution_count": 4,
   "metadata": {},
   "outputs": [],
   "source": [
    "def make_feasible(X):\n",
    "    rows = [0 for b in range(m)]\n",
    "    for i in range(n):\n",
    "        if X[i] == 1:\n",
    "            for row in columns[i]:\n",
    "                rows[row] = 1\n",
    "    for i in indices:\n",
    "        for row in columns[i]:\n",
    "            if rows[row] == 0:\n",
    "                rows[row] = 1\n",
    "                X[i] = 1\n",
    "    z = 0\n",
    "    for i in range(n):\n",
    "        if X[i] == 1:\n",
    "            z += c[i]\n",
    "    return z"
   ]
  },
  {
   "cell_type": "code",
   "execution_count": 5,
   "metadata": {},
   "outputs": [
    {
     "data": {
      "text/latex": [
       "$$o = 33155$$"
      ],
      "text/plain": [
       "<IPython.core.display.Math object>"
      ]
     },
     "metadata": {},
     "output_type": "display_data"
    },
    {
     "data": {
      "text/latex": [
       "$$n = 8661$$"
      ],
      "text/plain": [
       "<IPython.core.display.Math object>"
      ]
     },
     "metadata": {},
     "output_type": "display_data"
    },
    {
     "data": {
      "text/latex": [
       "$$m = 106$$"
      ],
      "text/plain": [
       "<IPython.core.display.Math object>"
      ]
     },
     "metadata": {},
     "output_type": "display_data"
    }
   ],
   "source": [
    "# read file's contents\n",
    "f= open(\"scp-n8661_m106-aa03.txt\",'r')\n",
    "\n",
    "[f.readline() for l in range(10)] # skip 10 lines\n",
    "o = int(f.readline().split()[1])\n",
    "n, m = list(map(int, f.readline().split()))\n",
    "display(Math(f'o = {o}'))\n",
    "display(Math(f'n = {n}'))\n",
    "display(Math(f'm = {m}'))\n",
    "\n",
    "# populate list of costs\n",
    "c = []\n",
    "while len(c) < n:\n",
    "    c += list(map(int, f.readline().split()))\n",
    "\n",
    "# populate list of rows in each column\n",
    "columns = []\n",
    "for i in range(n):\n",
    "    column = list(map(int, f.readline().split()))[1:]\n",
    "    columns.append([b-1 for b in column])\n",
    "\n",
    "f.close()\n",
    "\n",
    "# indices in order of cost\n",
    "indices = [i[0] for i in sorted(enumerate(c), key=lambda x:x[1])]"
   ]
  },
  {
   "cell_type": "code",
   "execution_count": 6,
   "metadata": {},
   "outputs": [
    {
     "data": {
      "text/latex": [
       "$$Z_{LB} = 8604$$"
      ],
      "text/plain": [
       "<IPython.core.display.Math object>"
      ]
     },
     "metadata": {},
     "output_type": "display_data"
    },
    {
     "data": {
      "text/latex": [
       "$$Z_{UB} = 52366$$"
      ],
      "text/plain": [
       "<IPython.core.display.Math object>"
      ]
     },
     "metadata": {},
     "output_type": "display_data"
    }
   ],
   "source": [
    "# Lagrangean parameters\n",
    "PI = 0.004\n",
    "l = 124\n",
    "LAMBDA = [l for x in range(m)]\n",
    "\n",
    "# temp solutions\n",
    "X_LB = [0 for b in range(n)]\n",
    "X_UB = [0 for b in range(n)]\n",
    "\n",
    "# determine Z_LB\n",
    "Z_LB = solve(X_LB)\n",
    "\n",
    "# determine Z_UB\n",
    "Z_UB = make_feasible(X_UB)\n",
    "\n",
    "# initial solution\n",
    "x = [b for b in X_UB]\n",
    "\n",
    "display(Math('Z_{LB} = '+f'{Z_LB:.0f}'))\n",
    "display(Math('Z_{UB} = '+f'{Z_UB}'))"
   ]
  },
  {
   "cell_type": "code",
   "execution_count": 7,
   "metadata": {
    "scrolled": false
   },
   "outputs": [
    {
     "data": {
      "text/latex": [
       "$$Z_{MAX} = 33071$$"
      ],
      "text/plain": [
       "<IPython.core.display.Math object>"
      ]
     },
     "metadata": {},
     "output_type": "display_data"
    },
    {
     "data": {
      "text/latex": [
       "$$Z_{MIN} = 38895$$"
      ],
      "text/plain": [
       "<IPython.core.display.Math object>"
      ]
     },
     "metadata": {},
     "output_type": "display_data"
    }
   ],
   "source": [
    "# Lagrangean heuristic\n",
    "Z_MAX = Z_LB\n",
    "Z_MIN = Z_UB\n",
    "\n",
    "# lists for the chart\n",
    "Z_LB_list = []\n",
    "Z_MAX_list = []\n",
    "Z_MIN_list = []\n",
    "Z_LB_list.append(Z_LB)\n",
    "Z_MAX_list.append(Z_MAX)\n",
    "Z_MIN_list.append(Z_MIN)\n",
    "\n",
    "i = 1\n",
    "while i < 10000 and Z_MAX < o and Z_MIN > o:\n",
    "    optimisation(X_LB)\n",
    "    Z_LB = solve(X_LB)\n",
    "    if Z_LB > Z_MAX:\n",
    "        Z_MAX = Z_LB\n",
    "        X_UB = [b for b in X_LB]\n",
    "        Z_UB = make_feasible(X_UB)\n",
    "        if Z_UB < Z_MIN:\n",
    "            Z_MIN = Z_UB\n",
    "            x = [b for b in X_UB]\n",
    "    Z_LB_list.append(Z_LB)\n",
    "    Z_MAX_list.append(Z_MAX)\n",
    "    Z_MIN_list.append(Z_MIN)\n",
    "    i += 1\n",
    "\n",
    "display(Math('Z_{MAX} = '+f'{Z_MAX:.0f}'))\n",
    "display(Math('Z_{MIN} = '+f'{Z_MIN:.0f}'))"
   ]
  },
  {
   "cell_type": "code",
   "execution_count": 8,
   "metadata": {},
   "outputs": [
    {
     "data": {
      "image/png": "[encoded data removed]",
      "text/plain": [
       "<Figure size 432x288 with 1 Axes>"
      ]
     },
     "metadata": {},
     "output_type": "display_data"
    }
   ],
   "source": [
    "line_zlb, = plt.plot(range(i), Z_LB_list, 'r', label='Z_LB')\n",
    "line_zmax, = plt.plot(range(i), Z_MAX_list, 'b', label='Z_MAX')\n",
    "line_zmin, = plt.plot(range(i), Z_MIN_list, 'g', label='Z_MIN')\n",
    "line_optimum = plt.axhline(y=o, xmin=0.0, xmax=1.0, color='k', ls='--', label='optimum')\n",
    "plt.legend(handles=[line_zlb, line_optimum, line_zmax, line_zmin])\n",
    "plt.title(f'PI = {PI} LAMBDA_i = {l} Z = {Z_MIN}')\n",
    "plt.show()"
   ]
  },
  {
   "cell_type": "markdown",
   "metadata": {},
   "source": [
    "Após 10000 iterações, o valor do Lower Bound aumenta muito lentamente. Após aproximadamente 11000000 de itereações, o valor subiu apenas de 33071 para 33074, produzindo uma solução final com o mesmo valor."
   ]
  }
 ],
 "metadata": {
  "kernelspec": {
   "display_name": "Python 3",
   "language": "python",
   "name": "python3"
  },
  "language_info": {
   "codemirror_mode": {
    "name": "ipython",
    "version": 3
   },
   "file_extension": ".py",
   "mimetype": "text/x-python",
   "name": "python",
   "nbconvert_exporter": "python",
   "pygments_lexer": "ipython3",
   "version": "3.6.6"
  }
 },
 "nbformat": 4,
 "nbformat_minor": 2
}
