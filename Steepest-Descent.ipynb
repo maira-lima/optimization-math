{
 "cells": [
  {
   "cell_type": "markdown",
   "metadata": {
    "slideshow": {
     "slide_type": "slide"
    }
   },
   "source": [
    "# Steepest Descent Algorithm to find an unconstrained minimum point\n",
    "\n",
    "Maira Zabuscha de Lima 21008214"
   ]
  },
  {
   "cell_type": "code",
   "execution_count": 1,
   "metadata": {
    "scrolled": true,
    "slideshow": {
     "slide_type": "slide"
    }
   },
   "outputs": [],
   "source": [
    "from math import sqrt\n",
    "import matplotlib.pyplot as plt\n",
    "from IPython.display import display, Math, Latex"
   ]
  },
  {
   "cell_type": "code",
   "execution_count": 2,
   "metadata": {
    "scrolled": true,
    "slideshow": {
     "slide_type": "slide"
    }
   },
   "outputs": [],
   "source": [
    "# Bisection Search Algorithm for a Local Minimum of a One-Dimension Function\n",
    "def bisectionSearch(x1, x2):\n",
    "    epsilon = 0.000001\n",
    "    \n",
    "    # find initial values for tl and tr    \n",
    "    ti = 0\n",
    "    d = dftdt(x1,x2,ti)\n",
    "    if d < 0:\n",
    "        tl = ti\n",
    "        tr = ti + 1\n",
    "        while dftdt(x1,x2,tr) <= 0:\n",
    "            tr = tr + 1\n",
    "    elif d > 0:\n",
    "        tr = ti\n",
    "        tl = ti - 1\n",
    "        while dftdt(x1,x2,tl) >= 0:\n",
    "            tl = tl - 1\n",
    "    else:\n",
    "        tl = ti\n",
    "        tr = ti\n",
    "    \n",
    "    # bisections\n",
    "    tm = (tl + tr)/2\n",
    "    while (tr - tl) > 2*epsilon:\n",
    "        d = dftdt(x1,x2,tm)\n",
    "        if d < 0:\n",
    "            tl = tm\n",
    "        elif d > 0:\n",
    "            tr = tm\n",
    "        else:\n",
    "            tl = tm\n",
    "            tr = tm\n",
    "        tm = (tl + tr)/2\n",
    "    return tm"
   ]
  },
  {
   "cell_type": "code",
   "execution_count": 3,
   "metadata": {
    "slideshow": {
     "slide_type": "slide"
    }
   },
   "outputs": [],
   "source": [
    "# Bi-dimension Unconstrained Local Nonlinear Optimization\n",
    "def steepestDescent(x1, x2, epsilon):\n",
    "    dx1 = dfdx1(x1,x2)\n",
    "    dx2 = dfdx2(x1,x2)\n",
    "    while abs(dx1) > epsilon and abs(dx2) > epsilon:\n",
    "        tstar = bisectionSearch(x1, x2)\n",
    "        x1 += dx1*tstar\n",
    "        x2 += dx2*tstar\n",
    "        dx1 = dfdx1(x1,x2)\n",
    "        dx2 = dfdx2(x1,x2)\n",
    "    return (x1, x2)"
   ]
  },
  {
   "cell_type": "code",
   "execution_count": 4,
   "metadata": {
    "scrolled": true,
    "slideshow": {
     "slide_type": "slide"
    }
   },
   "outputs": [],
   "source": [
    "# Bi-dimension Unconstrained Local Nonlinear Optimization\n",
    "# This is the same as the above but with added print instructions\n",
    "# to show some iterations\n",
    "def steepestDescent(x1, x2, epsilon):\n",
    "    i = 0\n",
    "    dx1 = dfdx1(x1,x2)\n",
    "    dx2 = dfdx2(x1,x2)\n",
    "    display(Math(f'i = {i}'))\n",
    "    display(Math('\\\\mathbf{x\\\\prime} = ' + f'({x1},{x2})'))\n",
    "    display(Math('f(\\\\mathbf{x\\\\prime}) = ' + f'{f(x1,x2)}'))\n",
    "    display(Math(f'\\\\nabla f({x1},{x2}) = [{dx1},{dx2}]'))\n",
    "    display(Math('\\\\varepsilon = ' + f'{epsilon}'))\n",
    "    while abs(dx1) > epsilon and abs(dx2) > epsilon:\n",
    "        i += 1\n",
    "        if i < 4:\n",
    "            print(\"\\n\")\n",
    "            display(Math(f'[|{dx1:.3f}|,|{dx2:.3f}|] > ' + '[10^{-6},10^{-6}]'))\n",
    "            display(Math(f'i = {i}'))\n",
    "            display(Math('\\\\mathbf{x\\\\prime\\\\prime} = ' + \n",
    "                         f'({x1:.3f},{x2:.3f}) + t[{dx1:.3f},{dx2:.3f}]'))\n",
    "        tstar = bisectionSearch(x1, x2)\n",
    "        if i < 4:\n",
    "            display(Math(f't* = {tstar:.6f}'))\n",
    "        x1 += dx1*tstar\n",
    "        x2 += dx2*tstar\n",
    "        if i < 4:\n",
    "            display(Math('\\\\mathbf{x\\\\prime\\\\prime} = ' + f'({x1:.3f},{x2:.3f})'))\n",
    "            display(Math('f(\\\\mathbf{x\\\\prime\\\\prime}) = ' + f'{f(x1,x2):.6f}'))\n",
    "        dx1 = dfdx1(x1,x2)\n",
    "        dx2 = dfdx2(x1,x2)\n",
    "        if i < 4:\n",
    "            display(Math(f'\\\\nabla f({x1:.3f},{x2:.3f}) = [{dx1:.3f},{dx2:.3f}]'))\n",
    "    print(\"\\n\")\n",
    "    display(Math(f'i = {i}'))\n",
    "    display(Math('\\\\mathbf{x\\\\prime\\\\prime} = ' + f'({x1:.3f},{x2:.3f})'))\n",
    "    display(Math('f(\\\\mathbf{x\\\\prime\\\\prime}) = ' + f'{f(x1,x2):.6f}'))\n",
    "    display(Math(f'\\\\nabla f({x1:.3f},{x2:.3f}) = [{dx1:.3f},{dx2:.3f}]'))\n",
    "    return (x1, x2)"
   ]
  },
  {
   "cell_type": "code",
   "execution_count": 5,
   "metadata": {
    "scrolled": true,
    "slideshow": {
     "slide_type": "slide"
    }
   },
   "outputs": [],
   "source": [
    "# functions that return the computations of problem (a)\n",
    "def f(x1, x2):\n",
    "    return (x1 -2)**4 + (x1 -2*x2)**2\n",
    "def dfdx1(x1, x2):\n",
    "    return 4*(x1 - 2)**3 + 2*(x1 -2*x2)\n",
    "def dfdx2(x1, x2):\n",
    "    return (-2)*2*(x1 -2*x2)\n",
    "def ft(x1, x2, t):\n",
    "    x1p = x1 + dfdx1(x1,x2)*t\n",
    "    x2p = x2 + dfdx2(x1,x2)*t\n",
    "    return f(x1p, x2p)\n",
    "def dftdt(x1, x2, t):\n",
    "    dx1 = dfdx1(x1,x2)\n",
    "    dx2 = dfdx2(x1,x2)\n",
    "    x1p = x1 + dx1*t\n",
    "    x2p = x2 + dx2*t\n",
    "    return dx1*4*(x1p -2)**3 + (dx1 - 2*dx2)*2*(x1p -2*x2p)"
   ]
  },
  {
   "cell_type": "code",
   "execution_count": 11,
   "metadata": {
    "scrolled": false,
    "slideshow": {
     "slide_type": "slide"
    }
   },
   "outputs": [
    {
     "data": {
      "text/latex": [
       "$$min {(x_1  - 2)^4 + (x_1 - 2x_2)^2}$$"
      ],
      "text/plain": [
       "<IPython.core.display.Math object>"
      ]
     },
     "metadata": {},
     "output_type": "display_data"
    },
    {
     "data": {
      "text/latex": [
       "$$(x_1, x_2)_{initial} = (0,3)$$"
      ],
      "text/plain": [
       "<IPython.core.display.Math object>"
      ]
     },
     "metadata": {},
     "output_type": "display_data"
    },
    {
     "data": {
      "text/latex": [
       "$$(x_1, x_2)_{optimal} = (2,1)$$"
      ],
      "text/plain": [
       "<IPython.core.display.Math object>"
      ]
     },
     "metadata": {},
     "output_type": "display_data"
    },
    {
     "name": "stdout",
     "output_type": "stream",
     "text": [
      "\n",
      "\n"
     ]
    },
    {
     "data": {
      "text/latex": [
       "$$i = 0$$"
      ],
      "text/plain": [
       "<IPython.core.display.Math object>"
      ]
     },
     "metadata": {},
     "output_type": "display_data"
    },
    {
     "data": {
      "text/latex": [
       "$$\\mathbf{x\\prime} = (0,3)$$"
      ],
      "text/plain": [
       "<IPython.core.display.Math object>"
      ]
     },
     "metadata": {},
     "output_type": "display_data"
    },
    {
     "data": {
      "text/latex": [
       "$$f(\\mathbf{x\\prime}) = 52$$"
      ],
      "text/plain": [
       "<IPython.core.display.Math object>"
      ]
     },
     "metadata": {},
     "output_type": "display_data"
    },
    {
     "data": {
      "text/latex": [
       "$$\\nabla f(0,3) = [-44,24]$$"
      ],
      "text/plain": [
       "<IPython.core.display.Math object>"
      ]
     },
     "metadata": {},
     "output_type": "display_data"
    },
    {
     "data": {
      "text/latex": [
       "$$\\varepsilon = 0.0001$$"
      ],
      "text/plain": [
       "<IPython.core.display.Math object>"
      ]
     },
     "metadata": {},
     "output_type": "display_data"
    },
    {
     "name": "stdout",
     "output_type": "stream",
     "text": [
      "\n",
      "\n"
     ]
    },
    {
     "data": {
      "text/latex": [
       "$$[|-44.000|,|24.000|] > [10^{-6},10^{-6}]$$"
      ],
      "text/plain": [
       "<IPython.core.display.Math object>"
      ]
     },
     "metadata": {},
     "output_type": "display_data"
    },
    {
     "data": {
      "text/latex": [
       "$$i = 1$$"
      ],
      "text/plain": [
       "<IPython.core.display.Math object>"
      ]
     },
     "metadata": {},
     "output_type": "display_data"
    },
    {
     "data": {
      "text/latex": [
       "$$\\mathbf{x\\prime\\prime} = (0.000,3.000) + t[-44.000,24.000]$$"
      ],
      "text/plain": [
       "<IPython.core.display.Math object>"
      ]
     },
     "metadata": {},
     "output_type": "display_data"
    },
    {
     "data": {
      "text/latex": [
       "$$t* = -0.061534$$"
      ],
      "text/plain": [
       "<IPython.core.display.Math object>"
      ]
     },
     "metadata": {},
     "output_type": "display_data"
    },
    {
     "data": {
      "text/latex": [
       "$$\\mathbf{x\\prime\\prime} = (2.707,1.523)$$"
      ],
      "text/plain": [
       "<IPython.core.display.Math object>"
      ]
     },
     "metadata": {},
     "output_type": "display_data"
    },
    {
     "data": {
      "text/latex": [
       "$$f(\\mathbf{x\\prime\\prime}) = 0.365385$$"
      ],
      "text/plain": [
       "<IPython.core.display.Math object>"
      ]
     },
     "metadata": {},
     "output_type": "display_data"
    },
    {
     "data": {
      "text/latex": [
       "$$\\nabla f(2.707,1.523) = [0.739,1.356]$$"
      ],
      "text/plain": [
       "<IPython.core.display.Math object>"
      ]
     },
     "metadata": {},
     "output_type": "display_data"
    },
    {
     "name": "stdout",
     "output_type": "stream",
     "text": [
      "\n",
      "\n"
     ]
    },
    {
     "data": {
      "text/latex": [
       "$$[|0.739|,|1.356|] > [10^{-6},10^{-6}]$$"
      ],
      "text/plain": [
       "<IPython.core.display.Math object>"
      ]
     },
     "metadata": {},
     "output_type": "display_data"
    },
    {
     "data": {
      "text/latex": [
       "$$i = 2$$"
      ],
      "text/plain": [
       "<IPython.core.display.Math object>"
      ]
     },
     "metadata": {},
     "output_type": "display_data"
    },
    {
     "data": {
      "text/latex": [
       "$$\\mathbf{x\\prime\\prime} = (2.707,1.523) + t[0.739,1.356]$$"
      ],
      "text/plain": [
       "<IPython.core.display.Math object>"
      ]
     },
     "metadata": {},
     "output_type": "display_data"
    },
    {
     "data": {
      "text/latex": [
       "$$t* = -0.230670$$"
      ],
      "text/plain": [
       "<IPython.core.display.Math object>"
      ]
     },
     "metadata": {},
     "output_type": "display_data"
    },
    {
     "data": {
      "text/latex": [
       "$$\\mathbf{x\\prime\\prime} = (2.537,1.211)$$"
      ],
      "text/plain": [
       "<IPython.core.display.Math object>"
      ]
     },
     "metadata": {},
     "output_type": "display_data"
    },
    {
     "data": {
      "text/latex": [
       "$$f(\\mathbf{x\\prime\\prime}) = 0.096676$$"
      ],
      "text/plain": [
       "<IPython.core.display.Math object>"
      ]
     },
     "metadata": {},
     "output_type": "display_data"
    },
    {
     "data": {
      "text/latex": [
       "$$\\nabla f(2.537,1.211) = [0.852,-0.464]$$"
      ],
      "text/plain": [
       "<IPython.core.display.Math object>"
      ]
     },
     "metadata": {},
     "output_type": "display_data"
    },
    {
     "name": "stdout",
     "output_type": "stream",
     "text": [
      "\n",
      "\n"
     ]
    },
    {
     "data": {
      "text/latex": [
       "$$[|0.852|,|-0.464|] > [10^{-6},10^{-6}]$$"
      ],
      "text/plain": [
       "<IPython.core.display.Math object>"
      ]
     },
     "metadata": {},
     "output_type": "display_data"
    },
    {
     "data": {
      "text/latex": [
       "$$i = 3$$"
      ],
      "text/plain": [
       "<IPython.core.display.Math object>"
      ]
     },
     "metadata": {},
     "output_type": "display_data"
    },
    {
     "data": {
      "text/latex": [
       "$$\\mathbf{x\\prime\\prime} = (2.537,1.211) + t[0.852,-0.464]$$"
      ],
      "text/plain": [
       "<IPython.core.display.Math object>"
      ]
     },
     "metadata": {},
     "output_type": "display_data"
    },
    {
     "data": {
      "text/latex": [
       "$$t* = -0.111609$$"
      ],
      "text/plain": [
       "<IPython.core.display.Math object>"
      ]
     },
     "metadata": {},
     "output_type": "display_data"
    },
    {
     "data": {
      "text/latex": [
       "$$\\mathbf{x\\prime\\prime} = (2.442,1.262)$$"
      ],
      "text/plain": [
       "<IPython.core.display.Math object>"
      ]
     },
     "metadata": {},
     "output_type": "display_data"
    },
    {
     "data": {
      "text/latex": [
       "$$f(\\mathbf{x\\prime\\prime}) = 0.044999$$"
      ],
      "text/plain": [
       "<IPython.core.display.Math object>"
      ]
     },
     "metadata": {},
     "output_type": "display_data"
    },
    {
     "data": {
      "text/latex": [
       "$$\\nabla f(2.442,1.262) = [0.180,0.331]$$"
      ],
      "text/plain": [
       "<IPython.core.display.Math object>"
      ]
     },
     "metadata": {},
     "output_type": "display_data"
    },
    {
     "name": "stdout",
     "output_type": "stream",
     "text": [
      "\n",
      "\n"
     ]
    },
    {
     "data": {
      "text/latex": [
       "$$i = 521$$"
      ],
      "text/plain": [
       "<IPython.core.display.Math object>"
      ]
     },
     "metadata": {},
     "output_type": "display_data"
    },
    {
     "data": {
      "text/latex": [
       "$$\\mathbf{x\\prime\\prime} = (2.036,1.018)$$"
      ],
      "text/plain": [
       "<IPython.core.display.Math object>"
      ]
     },
     "metadata": {},
     "output_type": "display_data"
    },
    {
     "data": {
      "text/latex": [
       "$$f(\\mathbf{x\\prime\\prime}) = 0.000002$$"
      ],
      "text/plain": [
       "<IPython.core.display.Math object>"
      ]
     },
     "metadata": {},
     "output_type": "display_data"
    },
    {
     "data": {
      "text/latex": [
       "$$\\nabla f(2.036,1.018) = [0.000,0.000]$$"
      ],
      "text/plain": [
       "<IPython.core.display.Math object>"
      ]
     },
     "metadata": {},
     "output_type": "display_data"
    }
   ],
   "source": [
    "# solve problem (a)\n",
    "display(Math('min {(x_1  - 2)^4 + (x_1 - 2x_2)^2}'))\n",
    "display(Math('(x_1, x_2)_{initial} = (0,3)'))\n",
    "display(Math('(x_1, x_2)_{optimal} = (2,1)'))\n",
    "print('\\n')\n",
    "e = 0.0001\n",
    "x1ini = 0\n",
    "x2ini = 3\n",
    "(x1, x2) = steepestDescent(x1ini,x2ini,e)"
   ]
  },
  {
   "cell_type": "code",
   "execution_count": 12,
   "metadata": {
    "scrolled": true,
    "slideshow": {
     "slide_type": "slide"
    }
   },
   "outputs": [],
   "source": [
    "# functions that return the computations of problem (b)\n",
    "def f(x1, x2):\n",
    "    return 4*x1**2 + 4*x2**2 + 4*x1*x2 - 12*x2\n",
    "def dfdx1(x1, x2):\n",
    "    return 8*x1 + 4*x2\n",
    "def dfdx2(x1, x2):\n",
    "    return 8*x2 + 4*x1 - 12\n",
    "def ft(x1, x2, t):\n",
    "    x1p = x1 + dfdx1(x1,x2)*t\n",
    "    x2p = x2 + dfdx2(x1,x2)*t\n",
    "    return f(x1p, x2p)\n",
    "def dftdt(x1, x2, t):\n",
    "    dx1 = dfdx1(x1,x2)\n",
    "    dx2 = dfdx2(x1,x2)\n",
    "    x1p = x1 + dx1*t\n",
    "    x2p = x2 + dx2*t\n",
    "    return 8*x1p*dx1 + 8*x2p*dx2 + 4*(dx1*x2p + x1p*dx2) - 12*dx2"
   ]
  },
  {
   "cell_type": "code",
   "execution_count": 13,
   "metadata": {
    "scrolled": false,
    "slideshow": {
     "slide_type": "slide"
    }
   },
   "outputs": [
    {
     "data": {
      "text/latex": [
       "$$min {4x_1^2 + 4x_2^2 + 4x_1x_2 - 12x_2}$$"
      ],
      "text/plain": [
       "<IPython.core.display.Math object>"
      ]
     },
     "metadata": {},
     "output_type": "display_data"
    },
    {
     "data": {
      "text/latex": [
       "$$(x_1, x_2)_{initial} = (0,3)$$"
      ],
      "text/plain": [
       "<IPython.core.display.Math object>"
      ]
     },
     "metadata": {},
     "output_type": "display_data"
    },
    {
     "data": {
      "text/latex": [
       "$$(x_1, x_2)_{optimal} = (-1,2)$$"
      ],
      "text/plain": [
       "<IPython.core.display.Math object>"
      ]
     },
     "metadata": {},
     "output_type": "display_data"
    },
    {
     "name": "stdout",
     "output_type": "stream",
     "text": [
      "\n",
      "\n"
     ]
    },
    {
     "data": {
      "text/latex": [
       "$$i = 0$$"
      ],
      "text/plain": [
       "<IPython.core.display.Math object>"
      ]
     },
     "metadata": {},
     "output_type": "display_data"
    },
    {
     "data": {
      "text/latex": [
       "$$\\mathbf{x\\prime} = (0,3)$$"
      ],
      "text/plain": [
       "<IPython.core.display.Math object>"
      ]
     },
     "metadata": {},
     "output_type": "display_data"
    },
    {
     "data": {
      "text/latex": [
       "$$f(\\mathbf{x\\prime}) = 0$$"
      ],
      "text/plain": [
       "<IPython.core.display.Math object>"
      ]
     },
     "metadata": {},
     "output_type": "display_data"
    },
    {
     "data": {
      "text/latex": [
       "$$\\nabla f(0,3) = [12,12]$$"
      ],
      "text/plain": [
       "<IPython.core.display.Math object>"
      ]
     },
     "metadata": {},
     "output_type": "display_data"
    },
    {
     "data": {
      "text/latex": [
       "$$\\varepsilon = 0.0001$$"
      ],
      "text/plain": [
       "<IPython.core.display.Math object>"
      ]
     },
     "metadata": {},
     "output_type": "display_data"
    },
    {
     "name": "stdout",
     "output_type": "stream",
     "text": [
      "\n",
      "\n"
     ]
    },
    {
     "data": {
      "text/latex": [
       "$$[|12.000|,|12.000|] > [10^{-6},10^{-6}]$$"
      ],
      "text/plain": [
       "<IPython.core.display.Math object>"
      ]
     },
     "metadata": {},
     "output_type": "display_data"
    },
    {
     "data": {
      "text/latex": [
       "$$i = 1$$"
      ],
      "text/plain": [
       "<IPython.core.display.Math object>"
      ]
     },
     "metadata": {},
     "output_type": "display_data"
    },
    {
     "data": {
      "text/latex": [
       "$$\\mathbf{x\\prime\\prime} = (0.000,3.000) + t[12.000,12.000]$$"
      ],
      "text/plain": [
       "<IPython.core.display.Math object>"
      ]
     },
     "metadata": {},
     "output_type": "display_data"
    },
    {
     "data": {
      "text/latex": [
       "$$t* = -0.083333$$"
      ],
      "text/plain": [
       "<IPython.core.display.Math object>"
      ]
     },
     "metadata": {},
     "output_type": "display_data"
    },
    {
     "data": {
      "text/latex": [
       "$$\\mathbf{x\\prime\\prime} = (-1.000,2.000)$$"
      ],
      "text/plain": [
       "<IPython.core.display.Math object>"
      ]
     },
     "metadata": {},
     "output_type": "display_data"
    },
    {
     "data": {
      "text/latex": [
       "$$f(\\mathbf{x\\prime\\prime}) = -12.000000$$"
      ],
      "text/plain": [
       "<IPython.core.display.Math object>"
      ]
     },
     "metadata": {},
     "output_type": "display_data"
    },
    {
     "data": {
      "text/latex": [
       "$$\\nabla f(-1.000,2.000) = [0.000,0.000]$$"
      ],
      "text/plain": [
       "<IPython.core.display.Math object>"
      ]
     },
     "metadata": {},
     "output_type": "display_data"
    },
    {
     "name": "stdout",
     "output_type": "stream",
     "text": [
      "\n",
      "\n"
     ]
    },
    {
     "data": {
      "text/latex": [
       "$$i = 1$$"
      ],
      "text/plain": [
       "<IPython.core.display.Math object>"
      ]
     },
     "metadata": {},
     "output_type": "display_data"
    },
    {
     "data": {
      "text/latex": [
       "$$\\mathbf{x\\prime\\prime} = (-1.000,2.000)$$"
      ],
      "text/plain": [
       "<IPython.core.display.Math object>"
      ]
     },
     "metadata": {},
     "output_type": "display_data"
    },
    {
     "data": {
      "text/latex": [
       "$$f(\\mathbf{x\\prime\\prime}) = -12.000000$$"
      ],
      "text/plain": [
       "<IPython.core.display.Math object>"
      ]
     },
     "metadata": {},
     "output_type": "display_data"
    },
    {
     "data": {
      "text/latex": [
       "$$\\nabla f(-1.000,2.000) = [0.000,0.000]$$"
      ],
      "text/plain": [
       "<IPython.core.display.Math object>"
      ]
     },
     "metadata": {},
     "output_type": "display_data"
    }
   ],
   "source": [
    "# solve problem (b) (we got the exact solution!)\n",
    "display(Math('min {4x_1^2 + 4x_2^2 + 4x_1x_2 - 12x_2}'))\n",
    "display(Math('(x_1, x_2)_{initial} = (0,3)'))\n",
    "display(Math('(x_1, x_2)_{optimal} = (-1,2)'))\n",
    "print('\\n')\n",
    "e = 0.0001\n",
    "x1ini = 0\n",
    "x2ini = 3\n",
    "(x1, x2) = steepestDescent(x1ini,x2ini,e)"
   ]
  }
 ],
 "metadata": {
  "kernelspec": {
   "display_name": "Python 3",
   "language": "python",
   "name": "python3"
  },
  "language_info": {
   "codemirror_mode": {
    "name": "ipython",
    "version": 3
   },
   "file_extension": ".py",
   "mimetype": "text/x-python",
   "name": "python",
   "nbconvert_exporter": "python",
   "pygments_lexer": "ipython3",
   "version": "3.6.6"
  }
 },
 "nbformat": 4,
 "nbformat_minor": 2
}
